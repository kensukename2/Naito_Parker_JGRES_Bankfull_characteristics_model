{
 "cells": [
  {
   "cell_type": "markdown",
   "metadata": {},
   "source": [
    "# Bankfull characteristics model: Spatiotemporal evolution of bankfull discharge and channel geometry of an alluvial meandering river. Part 2: Effect of altered flow duration curve on the bankfull channel deformation. "
   ]
  },
  {
   "cell_type": "markdown",
   "metadata": {},
   "source": [
    "Kensuke Naito (knaito2@illinois.edu) and Gary Parker"
   ]
  },
  {
   "cell_type": "markdown",
   "metadata": {},
   "source": [
    "This is a numerical model presented in a paper titled \"Can Bankfull Discharge and Bankfull Channel Characteristics of an Alluvial River be Co-specified from the Flow Duration Curve? Part 2: Application to the Minnesota River, USA\", which is submitted to Journal of Geophydical Research: Earth Surface in December 2018. The model describes spatiotemporal variation of the bankfull characteristics (bankfull discharge (Qbf), bankfull width (Bbf), bankfull depth (Hbf) and down-channel slope (Sc)) for specified flow duration curve, annual bed material feed rate and other input parameters. From arbitrarily selected initial condition, the model ddepicts the evolution of bankfull characteristics to an equilibrium state, where the variables show no further change both in space and time. "
   ]
  },
  {
   "cell_type": "markdown",
   "metadata": {},
   "source": [
    "Here, effect of altered flow duration curve on the bankfull channel deformation is examined for the case of the Minnesota River, MN, USA, whose channel has experienced rapid widening. Total 80 years of discharge record is devided into four periods to construct four flow duratoion curves: FDC1 (1935-1954), FDC2 (1955-1974), FDC3 (1975-1994) and FDC4 (1995-2014). After the model calibration and spin-up run with FDC1 (Regime 0), it is altered to FDC1 (Regime 1), FDC2 (Regime 2), FDC3 (Regime 3) and then FDC4 (Regime 4) with each lasting for 20 years. "
   ]
  },
  {
   "cell_type": "markdown",
   "metadata": {},
   "source": [
    "The script is written in Python 2.7. However, it is made in such a way that the model can also be run with PyPy, which is fast, compliant alterative implementation of Python. PyPy can be downloaded at https://pypy.org/."
   ]
  },
  {
   "cell_type": "markdown",
   "metadata": {},
   "source": [
    "## 1. Model setup"
   ]
  },
  {
   "cell_type": "markdown",
   "metadata": {},
   "source": [
    "#### Import libraries"
   ]
  },
  {
   "cell_type": "code",
   "execution_count": null,
   "metadata": {},
   "outputs": [],
   "source": [
    "import os \n",
    "import sys\n",
    "import numpy as np\n",
    "import csv  "
   ]
  },
  {
   "cell_type": "markdown",
   "metadata": {},
   "source": [
    "#### Set path and file name"
   ]
  },
  {
   "cell_type": "markdown",
   "metadata": {},
   "source": [
    "Set path to working directory and the folder where model output csv files will be saved. The file names of the flow duration curve as well as output file need to be specified here. Number at the end of each name refers to the regime: Regime 0 (spin-up), Regime 1 (1935-1954), Regime 2 (1955-1974), Regime 3 (1975-1994) and Regime 4 (1995-2014)."
   ]
  },
  {
   "cell_type": "code",
   "execution_count": null,
   "metadata": {},
   "outputs": [],
   "source": [
    "path_work = 'path to your working directory where fdc files are stored'\n",
    "path_csv =  'path to directory where you wish to store csv files'\n",
    "fdc_filename0 = '_fdc_minnesotariver_jordan_1935_1954.csv'\n",
    "fdc_filename1 = '_fdc_minnesotariver_jordan_1935_1954.csv'\n",
    "fdc_filename2 = '_fdc_minnesotariver_jordan_1955_1974.csv'\n",
    "fdc_filename3 = '_fdc_minnesotariver_jordan_1975_1994.csv'\n",
    "fdc_filename4 = '_fdc_minnesotariver_jordan_1995_2014.csv'\n",
    "out_filename0 = '_results_regime0.csv'\n",
    "out_filename1 = '_results_regime1.csv'\n",
    "out_filename2 = '_results_regime2.csv'\n",
    "out_filename3 = '_results_regime3.csv'\n",
    "out_filename4 = '_results_regime4.csv'"
   ]
  },
  {
   "cell_type": "markdown",
   "metadata": {},
   "source": [
    "#### Input parameters"
   ]
  },
  {
   "cell_type": "markdown",
   "metadata": {},
   "source": [
    "Most of the input parameters are determined based on USGS gaging station at the Trinity River near Romayor, TX, USA. USGS gaging station number: 05330000."
   ]
  },
  {
   "cell_type": "code",
   "execution_count": null,
   "metadata": {},
   "outputs": [],
   "source": [
    "# Space / time grid size\n",
    "dxv = 2000.          # [m] Spatial grid size (valley length)\n",
    "M = 6          # [1] Number of spatial grids\n",
    "dt = 0.01          # [yr]  Temporal grid size \n",
    "Nloop_0 = 100001   # [1] Numbe of itteration for Regime 0 (spin-up)\n",
    "Nloop_1234 = 2001   # [1] Number of itteration for Regime 1,2,3,4\n",
    "au = 0.5          # [1] au = 0.5: Central difference, au = 1: Full upwind\n",
    "\n",
    "# Initial channel geometry\n",
    "BbfI = 100.          # [m] Bankfull width   \n",
    "HncI = 2.          # [m] Thickness of lower floodplain layer\n",
    "HcI = 2.          #  [m] Thickness of upper floodplain layer\n",
    "HbfI = HncI + HcI          # [m] Bankfull deoth\n",
    "ScI = 0.0002164          # [1] Down-channel slope\n",
    "Etab_d = 10.          # [m] Channel bed elevation at the downstream end \n",
    "\n",
    "# Parameter for the flow duration curve\n",
    "Nfdc = 100          #[1] Number of bins in FDC \n",
    "\n",
    "# Calibration parameter\n",
    "aEH = 0.3          # [1] Engelund-Hansen calibration factor\n",
    "Tsb = 0.1          # [yr] Characteristic bank armor (slump block) residence time\n",
    "cveg = 8.          # [m/yr] Characteristic vegetal encroachment rate\n",
    "fe = 0.2          # [1] Fractional efficiency of floodplain sedimentation\n",
    "\n",
    "# Auxullary parameter\n",
    "Cz = 13.          # [1] Dimensionless Chezy channel resistance coeffieent\n",
    "\n",
    "# Sediment and channel planform\n",
    "Dbm = 0.3 / 1000.         # [mm] D50 of bed material\n",
    "QTfeed = 0.22          # [Mt/yr] Mean annual bed material feed rate\n",
    "Dfm = 0.04 / 1000.          # [mm(m)] floodplain material size (0.05)\n",
    "Cfm = 0.00015          # [1] Characteristic volumetric concentration of floodplain material\n",
    "sinu = 2.          # [1] Channel sinuosity\n",
    "\n",
    " # Parameter for cut bank erosion and inner bank migration\n",
    "A = 4.81          # [1] Dimensionless coeff (Johannesson & Parker, 1989)\n",
    "fmb = 10.          # [1] Ratio of meandering belt width to bankfull width (10)\n",
    "fc = 1.          # [1] Ratio of slump block size to cohesive layer thickness (0.5)\n",
    "lpc = 0.3          # [1] Porosity of upper floodplain layer\n",
    "lp = 0.3          # [1] Porosity of channel bed and lower floodplain layer\n",
    "\n",
    "# Global constants\n",
    "g = 9.81          # [m/s^2] Gravitational acceleration\n",
    "Rr = 1.65          # [1] Submerged specific gravity of sediment\n",
    "day_in_sec = 60. * 60. * 24.          #[s] A day in seconds\n",
    "year_in_sec = day_in_sec * 365.25          #[s] A year in seconds \n",
    "converter_QT = 1e6 / (Rr + 1.)          # [] Unit converter for bed mateiral load\n",
    "\n",
    "# Unit conversion\n",
    "Xv = np.ones(M)          # River valley coordinates for plotting results\n",
    "for j in range(M):\n",
    "    Xv[j] *= j * dxv / 1000.\n",
    "QTfeed *= converter_QT          # [Mt/yr -> m^3/yr] Bed mateiral load\n",
    "\n",
    "# Fall velocity of floodplain material (Dietrich, 1982)\n",
    "Rep = np.sqrt(g * Rr * Dfm**3.) / 1e-6          # [1] Particle Reynolds number\n",
    "b1 = 2.89139447769084; b2 = 0.95296; b3 = 0.0568346711984055 \n",
    "b4 = 0.00289204602084475; b5 = 0.00024464688411386\n",
    "Rf = np.exp(-b1 + b2 * np.log(Rep) - b3 * np.log(Rep)**2. - b4 * np.log(Rep)**3. + b5 * np.log(Rep)**4.)\n",
    "vfall = Rf * np.sqrt(g * Rr * Dfm)          # [m/s] Fall velocity of floodplain material \n",
    "\n",
    "# Coefficients for point bar height calculation and cut bank erosion rate calculation\n",
    "fpb = (sinu - 1.) * A / fmb          # [1] For point bar height calculation\n",
    "fbe = fc / ((1. - lpc) * Tsb)          # [1/yr] For outer bankf erosion calculation"
   ]
  },
  {
   "cell_type": "markdown",
   "metadata": {},
   "source": [
    "## 2. Main routine "
   ]
  },
  {
   "cell_type": "markdown",
   "metadata": {},
   "source": [
    "This rutine includes initial condition setup, computation of the spatial and temporal bankfull characteristics evolution and result output to csv files. This also includes the alteration of the flow duration curves. First, spin-up run is conduted with FDC1 until it reaches the equilibrium. FDC1 is then switched to FDC1 and run for 20 years (this does not cause channel deformation, it is done for convenience). FDC1 is then altered to FDC2, then run for another 20 years. FDC2 is then changed to FDC3, which is later replaced with FDC4 after 20 years. Thus, total 80 years of model run is conducted after the end of the spin-up run."
   ]
  },
  {
   "cell_type": "code",
   "execution_count": null,
   "metadata": {},
   "outputs": [],
   "source": [
    "def main():\n",
    "    \n",
    "    # Display total number of years of the spin-up calculation and number of years of each regime\n",
    "    print('Spin-up run [yr] = ' + str(int(dt * Nloop_0))\n",
    "    print('Regime 1-4 [yr] = ' + str(int(dt * Nloop_1234))\n",
    "    \n",
    "    # Change current directory to working directory\n",
    "    os.chdir(path_work)\n",
    "\n",
    "    # Initialize the time\n",
    "    Time = 0.\n",
    "\n",
    "    # Regime 0 (spin-up) run\n",
    "    print 'Run: regime 0'\n",
    "    Stop, Time, Qbf, Hbf, Bbf, Sc, Hc, Hnc, Hpb, \\\n",
    "    Etab, Etac, Etanc, Etapb, cE, cD, vD, QT \\\n",
    "          = regime_0(Time)\n",
    "\n",
    "    # Regime 1-4 runs\n",
    "    for regime in range(1, 5):\n",
    "        if Stop == True:\n",
    "            break\n",
    "        else:\n",
    "            print 'Run: Regime ' + str(int(regime))\n",
    "            Stop, Time, Qbf, Hbf, Bbf, Sc, Hc, Hnc, Hpb, \\\n",
    "            Etab, Etac, Etanc, Etapb, cE, cD, vD, QT \\\n",
    "                  = regime_1234(regime, Time, Qbf, Hbf, Bbf, Sc,\n",
    "                                Hc, Hnc, Hpb, Etab, Etac, Etanc, Etapb,\n",
    "                                cE, cD, vD, QT)\n",
    "    \n",
    "    # Display the main results\n",
    "    if Stop == False:\n",
    "        print('===== MAIN RESULTS (at the end of Regime 4) =====')\n",
    "        print('Qbf [m^3/s] = ' + str(round(Qbf[0], 1)))\n",
    "        print('Bbf [m] = ' + str(round(Bbf[0], 1)))\n",
    "        print('Hbf [m] = ' + str(round(Hbf[0], 1)))"
   ]
  },
  {
   "cell_type": "markdown",
   "metadata": {},
   "source": [
    "## 3. Sub-routines for Regime 0 run and Regime 1-4 runs"
   ]
  },
  {
   "cell_type": "markdown",
   "metadata": {},
   "source": [
    "#### Regime 0 (spin-up run)"
   ]
  },
  {
   "cell_type": "code",
   "execution_count": null,
   "metadata": {},
   "outputs": [],
   "source": [
    "def regime_0(Time):\n",
    "    \n",
    "    # Setup empty arrays for result output to csv file \n",
    "    TIME = []; QBF = []; HBF = []; BBF = []; SC = []\n",
    "    HC = []; HNC = []; HPB = []\n",
    "    ETAB = []; ETAC = []; ETANC = []; ETAPB = []\n",
    "    CERO = []; CDEP = []; VDEP = []; QTT = []\n",
    "\n",
    "    # Constract FDC from csv file on daily-averge flow record\n",
    "    Qi, pi = construct_fdc(fdc_filename0)\n",
    "\n",
    "    # Calculate and setup initial condition\n",
    "    usbf = (g * HbfI * ScI)**(1./2.)\n",
    "    QbfI = Cz * usbf * HbfI * BbfI\n",
    "    HpbI = fpb * HbfI\n",
    "    cEI = outerbank_erosion_rate(QbfI, BbfI, HbfI, HncI, ScI, Qi, pi)\n",
    "    cDI = innerbank_deposition_rate(QbfI, BbfI, HbfI, ScI, Qi, pi)\n",
    "    vDI = overbank_deposition_rate(QbfI, Qi, pi)\n",
    "    QTI = bedmaterial_load(QbfI, BbfI, HbfI, ScI, Qi, pi)\n",
    "\n",
    "    # Set up the spatial grids for initial condition\n",
    "    Qbf = QbfI * np.ones(M); Bbf = BbfI * np.ones(M)\n",
    "    Hbf = HbfI * np.ones(M); Sc = ScI * np.ones(M)\n",
    "    Hnc = HncI * np.ones(M); Hc = HcI * np.ones(M)\n",
    "    Hpb = HpbI * np.ones(M)\n",
    "    Etab = Etab_d * np.ones(M)\n",
    "    for j in range(M):\n",
    "        Etab[j] += ScI * sinu * dxv * (M - j - 1.)\n",
    "    Etanc = Etab + HncI; Etac = Etab + HbfI\n",
    "    Etapb = Etab + HpbI\n",
    "    cE = cEI * np.ones(M); cD = cDI * np.ones(M)\n",
    "    vD = vDI * np.ones(M); QT = QTI * np.ones(M)\n",
    "\n",
    "    # Temporal loop\n",
    "    for k in range(Nloop_0):\n",
    "        \n",
    "        # Advance the clock\n",
    "        Time += dt\n",
    "        \n",
    "        # Spatial evolution of the variables\n",
    "        Stop, Qbf, Hbf, Bbf, Sc, Hc, Hnc, Hpb, \\\n",
    "              Etab, Etac, Etanc, Etapb, cE, cD, vD, QT  \\\n",
    "              = spatial_calculation(Qbf, Bbf, Sc, Hnc, Hpb,\n",
    "                                    Etac, Etanc, Etab, Etapb,\n",
    "                                    cE, cD, vD, QT, QTfeed, Qi, pi)\n",
    "                \n",
    "        # Update lists\n",
    "        if Stop == True:\n",
    "            break\n",
    "        else:\n",
    "            TIME.append(Time); QBF.append(np.mean(Qbf)); HBF.append(np.mean(Hbf))\n",
    "            BBF.append(np.mean(Bbf)); SC.append(np.mean(Sc))\n",
    "            HC.append(np.mean(Hc)); HNC.append(np.mean(Hnc)); HPB.append(np.mean(Hpb))\n",
    "            ETAB.append(np.mean(Etab)); ETAC.append(np.mean(Etac))\n",
    "            ETANC.append(np.mean(Etanc)); ETAPB.append(np.mean(Etapb))\n",
    "            CERO.append(np.mean(cE)); CDEP.append(np.mean(cD))\n",
    "            VDEP.append(np.mean(vD)); QTT.append(np.mean(QT))\n",
    "\n",
    "    # Print out results to csv file\n",
    "    if Stop != True:\n",
    "        printout_csv(out_filename0, np.array(TIME), np.array(QBF), np.array(HBF),\n",
    "                     np.array(BBF), np.array(SC),\n",
    "                     np.array(HC), np.array(HNC), np.array(HPB),\n",
    "                     np.array(ETAB), np.array(ETAC), np.array(ETANC), np.array(ETAPB),\n",
    "                     np.array(CERO), np.array(CDEP), np.array(VDEP), np.array(QTT))\n",
    "\n",
    "    return Stop, Time, Qbf, Hbf, Bbf, Sc, Hc, Hnc, Hpb, \\\n",
    "           Etab, Etac, Etanc, Etapb, cE, cD, vD, QT"
   ]
  },
  {
   "cell_type": "markdown",
   "metadata": {},
   "source": [
    "#### Regime 1-4"
   ]
  },
  {
   "cell_type": "code",
   "execution_count": null,
   "metadata": {},
   "outputs": [],
   "source": [
    "def regime_1234(regime, Time, Qbf, Hbf, Bbf, Sc,\n",
    "                Hc, Hnc, Hpb, Etab, Etac, Etanc, Etapb,\n",
    "                cE, cD, vD, QT):\n",
    "\n",
    "   # Setup empty arrays for result output to csv file \n",
    "    TIME = []; QBF = []; HBF = []; BBF = []; SC = []\n",
    "    HC = []; HNC = []; HPB = []\n",
    "    ETAB = []; ETAC = []; ETANC = []; ETAPB = []\n",
    "    CERO = []; CDEP = []; VDEP = []; QTT = []\n",
    "\n",
    "    # Set file names and parameters for each regime\n",
    "    if regime == 1:\n",
    "        fdc_filename = fdc_filename1\n",
    "        out_filename = out_filename1\n",
    "    elif regime == 2:\n",
    "        fdc_filename = fdc_filename2\n",
    "        out_filename = out_filename2\n",
    "    elif regime == 3:\n",
    "        fdc_filename = fdc_filename3\n",
    "        out_filename = out_filename3\n",
    "    else:\n",
    "        fdc_filename = fdc_filename4\n",
    "        out_filename = out_filename4\n",
    "\n",
    "    # Constract FDC from csv file on daily-averge flow record\n",
    "    Qi, pi = construct_fdc(fdc_filename)\n",
    "\n",
    "    # Temporal loop\n",
    "    for k in range(Nloop_1234):\n",
    "        \n",
    "        # Advance the clock\n",
    "        Time += dt\n",
    "\n",
    "        # Spatial evolution of the variables\n",
    "        Stop, Qbf, Hbf, Bbf, Sc, Hc, Hnc, Hpb, \\\n",
    "        Etab, Etac, Etanc, Etapb, Cero, Cdep, Vdep, Qt \\\n",
    "            = spatial_calculation(Qbf, Bbf, Sc, Hnc, Hpb, Etac, Etanc, Etab, Etapb,\n",
    "                                  cE, cD, vD, QT, QTfeed, Qi, pi)\n",
    "\n",
    "        # Update lists\n",
    "        if Stop == True:\n",
    "            break\n",
    "        else:\n",
    "            TIME.append(Time); QBF.append(np.mean(Qbf)); HBF.append(np.mean(Hbf))\n",
    "            BBF.append(np.mean(Bbf)); SC.append(np.mean(Sc))\n",
    "            HC.append(np.mean(Hc)); HNC.append(np.mean(Hnc)); HPB.append(np.mean(Hpb))\n",
    "            ETAB.append(np.mean(Etab)); ETAC.append(np.mean(Etac))\n",
    "            ETANC.append(np.mean(Etanc)); ETAPB.append(np.mean(Etapb))\n",
    "            CERO.append(np.mean(cE)); CDEP.append(np.mean(cD))\n",
    "            VDEP.append(np.mean(vD)); QTT.append(np.mean(QT))\n",
    "\n",
    "    # Print out results to csv file\n",
    "    if Stop != True:\n",
    "        printout_csv(out_filename, np.array(TIME), np.array(QBF), np.array(HBF),\n",
    "                     np.array(BBF), np.array(SC),\n",
    "                     np.array(HC), np.array(HNC), np.array(HPB),\n",
    "                     np.array(ETAB), np.array(ETAC), np.array(ETANC), np.array(ETAPB),\n",
    "                     np.array(CERO), np.array(CDEP), np.array(VDEP), np.array(QTT))\n",
    "\n",
    "    return Stop, Time, Qbf, Hbf, Bbf, Sc, Hc, Hnc, Hpb, \\\n",
    "           Etab, Etac, Etanc, Etapb, cE, cD, vD, QT"
   ]
  },
  {
   "cell_type": "markdown",
   "metadata": {},
   "source": [
    "## 4. Sub-functions"
   ]
  },
  {
   "cell_type": "markdown",
   "metadata": {},
   "source": [
    "#### Spatial variation of the bankfull characteristics "
   ]
  },
  {
   "cell_type": "markdown",
   "metadata": {},
   "source": [
    "Bankfull channel characteristics are calculated as a result of floodplain thickening due to overbank deposition or/and channel bed degradation, floodplain thinning due to cut bank erosion or/and channel bed aggracation, channel widening/narrowing due to the difference in cut bank migraion rate and inner bank migration rate. Altough spatial variation of the parameters are calculated, they are not varying over space sice channel slope is fixed and uniform in space. Qtfeed does, thus, not play a role herein. "
   ]
  },
  {
   "cell_type": "code",
   "execution_count": null,
   "metadata": {},
   "outputs": [],
   "source": [
    "def spatial_calculation(Qbf, Bbf, Sc, Hnc, Hpb, Etac, Etanc, Etab, Etapb,\n",
    "                        cE, cD, vD, QT, QTfeed, Qi, pi):\n",
    "\n",
    "    # Create arrays\n",
    "    d_Etab = np.zeros(M); d_Etanc = np.zeros(M)\n",
    "    d_Etac = np.zeros(M); d_Bbf = np.zeros(M)\n",
    "\n",
    "    # Calculate update\n",
    "    for j in range(M):\n",
    "        # QT at adjacent nodes\n",
    "        QTmid = QT[j]\n",
    "        if j == 0:\n",
    "            QTup = QT[j]          # Note that QTfeed does not play a role herein\n",
    "            QTdw = QT[j+1]\n",
    "        elif j == M-1:\n",
    "            QTup = QT[j-1]\n",
    "            QTdw = QTmid\n",
    "        else:\n",
    "            QTup = QT[j-1]\n",
    "            QTdw = QT[j+1]\n",
    "\n",
    "        d_Etab[j] = (Hnc[j] * cE[j] - Hpb[j] * cD[j]) / Bbf[j] \\\n",
    "                    - (au * (QTmid - QTup) + (1. - au) * (QTdw - QTmid)) \\\n",
    "                    / (dxv * sinu * (1. - lp) * Bbf[j])\n",
    "        d_Etanc[j] = (Etapb[j] - Etanc[j]) * sinu * cD[j] / (fmb * Bbf[j] - sinu * Bbf[j])\n",
    "        d_Etac[j] = vD[j] / (1. - lpc) + sinu * (cD[j] * (Etapb[j] - Etanc[j]) - cE[j] * (Etac[j] - Etanc[j])) \\\n",
    "                    / (fmb * Bbf[j] - sinu * Bbf[j])\n",
    "        d_Bbf[j] = cE[j] - cD[j]\n",
    "\n",
    "    # Update geometry\n",
    "    Bbf = Bbf + dt * d_Bbf\n",
    "    Etab = Etab + dt * d_Etab\n",
    "    Etanc = Etanc + dt * d_Etanc\n",
    "    Etac = Etac + dt * d_Etac\n",
    "    Hnc = Etanc - Etab\n",
    "    Hc = Etac - Etanc\n",
    "    Hbf = Hnc + Hc\n",
    "    Hpb = fpb * Hbf\n",
    "    Etapb = Etab + Hpb\n",
    "        \n",
    "    # Calculate bankfull discharge, channel migration, \n",
    "    # overbank deposition and bed material load\n",
    "    for j in range(M):\n",
    "        # Detect NAN and negative geometry\n",
    "        if Bbf[j] != Bbf[j] or QT[j] != QT[j] or Bbf[j] <= 0 or Sc[j] <= 0:\n",
    "            Stop = True\n",
    "            print '[!] Encountered NAN or negative geometry. Change dt, dx or initial condition'\n",
    "            break\n",
    "        else:\n",
    "            Stop = False\n",
    "            # Bankfull discharge\n",
    "            usbf = (g * Hbf[j] * Sc[j])**(1./2.)\n",
    "            Qbf[j] = Cz * usbf * Hbf[j] * Bbf[j]\n",
    "            # Lateral channel migration, overbank deposition and bed mateiral load\n",
    "            cE[j] = outerbank_erosion_rate(Qbf[j], Bbf[j], Hbf[j], Hnc[j], Sc[j], Qi, pi)  # [m/yr]\n",
    "            cD[j] = innerbank_deposition_rate(Qbf[j], Bbf[j], Hbf[j], Sc[j], Qi, pi)  # [m/yr]\n",
    "            vD[j] = overbank_deposition_rate(Qbf[j], Qi, pi)  # [m/yr]\n",
    "            QT[j] = bedmaterial_load(Qbf[j], Bbf[j], Hbf[j], Sc[j], Qi, pi)  # [m^3/yr]\n",
    "    \n",
    "    return Stop, Qbf, Hbf, Bbf, Sc, Hc, Hnc, Hpb, \\\n",
    "           Etab, Etac, Etanc, Etapb, cE, cD, vD, QT"
   ]
  },
  {
   "cell_type": "markdown",
   "metadata": {},
   "source": [
    "#### Function to calculate inner bank depositional migration"
   ]
  },
  {
   "cell_type": "markdown",
   "metadata": {},
   "source": [
    "Inner bank depositional migration rate (cD) is calculated as a negative function of specified characteristic point bar vegetal encroachment rate (cveg) and bed shear stress (taus). Note that cD is integrated over the specified flow duration curve.  "
   ]
  },
  {
   "cell_type": "code",
   "execution_count": null,
   "metadata": {},
   "outputs": [],
   "source": [
    "def innerbank_deposition_rate(Qbf, Bbf, Hbf, Sc, Qi, pi):\n",
    "    tausbf = Hbf * Sc / (Rr * Dbm)\n",
    "    cD = 0.\n",
    "    for i in range(Nfdc):\n",
    "        # No inner bank advance during overbank flows\n",
    "        if Qi[i] <= Qbf:\n",
    "            H = (Qi[i]**2. / (Cz**2. * g * Sc * Bbf**2.))**(1./3.)\n",
    "            tausi = H * Sc / (Rr * Dbm)\n",
    "            cD += 0.5 * cveg / (1. - lp) * (1. - tausi / tausbf) * pi[i]\n",
    "    return cD"
   ]
  },
  {
   "cell_type": "markdown",
   "metadata": {},
   "source": [
    "#### Cut bank erosional migration "
   ]
  },
  {
   "cell_type": "markdown",
   "metadata": {},
   "source": [
    "Outer bank erosional migration rate (cE) is calculated as a function of specified characteristic bank aromor (slump block) residence time (Tsb) and bed shear stress (taus). Note that cE is integrated over the specified flow duration curve.  "
   ]
  },
  {
   "cell_type": "code",
   "execution_count": null,
   "metadata": {},
   "outputs": [],
   "source": [
    "def outerbank_erosion_rate(Qbf, Bbf, Hbf, Hnc, Sc, Qi, pi):\n",
    "    if Hnc < 0.:\n",
    "        Hnc = 0.\n",
    "    tausbf = Hbf * Sc / (Rr * Dbm)\n",
    "    cE = 0.\n",
    "    for i in range(Nfdc):\n",
    "        # Below bankfull flow\n",
    "        if Qi[i] <= Qbf:\n",
    "            H = (Qi[i]**2. / (Cz**2. * g * Sc * Bbf**2.))**(1./3.)\n",
    "            tausi = H * Sc / (Rr * Dbm)\n",
    "            cE += 0.5 * fbe * Hnc * (tausi / tausbf) * pi[i]\n",
    "        # Above bankfull flow\n",
    "        else:\n",
    "            cE += 0.5 * fbe * Hnc * 1. * pi[i]\n",
    "    return cE"
   ]
  },
  {
   "cell_type": "markdown",
   "metadata": {},
   "source": [
    "#### Overbank deposition "
   ]
  },
  {
   "cell_type": "markdown",
   "metadata": {},
   "source": [
    "Overbank deposition rate (vD) is calculated as a function of fall velocity of specified fractional efficiency of floodplain mateiral sedimentation (fe), specified characteristic volume concentration of floodplain mateiral during overbank flows (Cfm) and settling velocity of specified floodplain mateiral grain size (vfall). Note that vD is integrated over the specified flow duration curve.  "
   ]
  },
  {
   "cell_type": "code",
   "execution_count": null,
   "metadata": {},
   "outputs": [],
   "source": [
    "def overbank_deposition_rate(Qbf, Qi, pi):\n",
    "    vdep = 0.\n",
    "    for i in range(Nfdc):\n",
    "        # No overbank deposition rate during below-bankfull flows\n",
    "        if Qi[i] > Qbf:\n",
    "            vdep += fe * vfall * year_in_sec * Cfm * pi[i]\n",
    "    return vdep"
   ]
  },
  {
   "cell_type": "markdown",
   "metadata": {},
   "source": [
    "#### In-channel bed mateiral transport"
   ]
  },
  {
   "cell_type": "markdown",
   "metadata": {},
   "source": [
    "In-channel bedmaterial load (QT) is calculated using total load relation by Engelund and Hansen (1967). It is calculated as a function of specified total load relation calibration factor (aEH), bed shear stress (taus) and specified dimensionless Chezy channel resistance coefficieit (Cz). Note that QT is integrated over the specified flow duration curve."
   ]
  },
  {
   "cell_type": "code",
   "execution_count": null,
   "metadata": {},
   "outputs": [],
   "source": [
    "def bedmaterial_load(Qbf, Bbf, Hbf, Sc, Qi, pi):\n",
    "    tausbf = Hbf * Sc / (Rr * Dbm)\n",
    "    Einstein_no = 0.\n",
    "    for i in range(Nfdc):\n",
    "        # Below overbank flow\n",
    "        if Qi[i] <= Qbf:\n",
    "            H = (Qi[i]**2. / (Cz**2. * g * Sc * Bbf**2.))**(1./3.)\n",
    "            tausi = H * Sc / (Rr * Dbm)\n",
    "            Einstein_no += Bbf * aEH * 0.05 * Cz**2. * tausi**(5./2.) * pi[i]\n",
    "        # Above overbank flow\n",
    "        else:\n",
    "            Einstein_no += Bbf * aEH * 0.05 * Cz**2. * tausbf**(5./2.) * pi[i]\n",
    "    QT = Einstein_no * (g * Rr * Dbm**3.)**(1./2.) * year_in_sec          # [m^3/yr]\n",
    "    return QT"
   ]
  },
  {
   "cell_type": "markdown",
   "metadata": {},
   "source": [
    "#### Read csv file to condtruct the flow duration curve"
   ]
  },
  {
   "cell_type": "markdown",
   "metadata": {},
   "source": [
    "The cvs file containes 4 columns (1: agency, 2: site no, 3: date, 4: discharge). Discharge is provided in US unit, thus it is converted to SI unit. "
   ]
  },
  {
   "cell_type": "code",
   "execution_count": null,
   "metadata": {},
   "outputs": [],
   "source": [
    "def construct_fdc(fdc_filename):\n",
    "    # Read csv file\n",
    "    with open(fdc_filename) as csv_file:\n",
    "        csv_reader = csv.reader(csv_file, delimiter=',')\n",
    "        Qw = []; counter = 0\n",
    "        for row in csv_reader:\n",
    "            if str(row[3]).isdigit() and str(row[3]) > 0.:\n",
    "                Qw.append(float(row[3]) * (12.**3.) * (2.54**3.) / (100.**3.))     #[ft^3/s -> m^3/s]\n",
    "            counter += 1\n",
    "    Qw = np.array(Qw)\n",
    "    # Condtruct probability density function\n",
    "    Qi, pi = np.zeros(Nfdc), np.zeros(Nfdc)\n",
    "    nn, bins = np.histogram(Qw, Nfdc, density=True)\n",
    "    for k in range(Nfdc):\n",
    "        Qi[k] = 0.5 * (bins[k] + bins[k+1])\n",
    "        pi[k] = nn[k] * (bins[k+1] - bins[k])\n",
    "    return Qi, pi"
   ]
  },
  {
   "cell_type": "markdown",
   "metadata": {},
   "source": [
    "#### Print out results to csv files"
   ]
  },
  {
   "cell_type": "markdown",
   "metadata": {},
   "source": [
    "Each output file containes temporal variation of time (TIME), bankfull discharge (Qbf), bankfull width (Bbf), bankful depth (Hbf = Hnc + Hc)), down-channel slope (Sc), elevation of channel bed (Etab), elevation of top of upper cohesive floodplain layer (Etac), elevation of top of lower non-cohesive floodplain layer (Etanc), elevation of top of point bar (Etapb), thichness of upper cohesive floodplain layer (Hc = Etac - Etanc), thickness of lower non-cohesive floodplain layer (Hnc = Etanc - Etab), point bar height (Hpb = Etapb - Etab), cut bank erosional migraion rate (cE), inner bankf depositional migraion rate (cD), overbank deposition rage (vD) and annual bed material load (QT). Note that these variables do not change over space."
   ]
  },
  {
   "cell_type": "code",
   "execution_count": null,
   "metadata": {},
   "outputs": [],
   "source": [
    "def printout_csv(out_filename, TIME, QBF, HBF, BBF, SC, HC, HNC, HPB,\n",
    "                 ETAB, ETAC, ETANC, ETAPB, CERO, CDEP, VDEP, QTT):\n",
    "    # Change the directory\n",
    "    os.chdir(path_csv)\n",
    "    Nrow = len(TIME)\n",
    "    QTT /= converter_QT     # [m^3/yr -> Mt/yr]\n",
    "    with open(out_filename, 'wb') as ff:\n",
    "        writer = csv.writer(ff)\n",
    "        for kk in range(Nrow):\n",
    "            # [0: TIME, 1:QBF, 2:HBF, 3:BBF, 4:SC,\n",
    "            #  5:ETAB, 6:ETAC, 7:ETANC, 8:ETAPB, \n",
    "            #  9:HC, 10:HNC, 11:HPB, 12:CERO, 13:CDEP, 14:VDEP, 15:QTT]\n",
    "            writer.writerow([\n",
    "                '{:.1f}'.format(TIME[kk]), '{:.3f}'.format(QBF[kk]),\n",
    "                '{:.3f}'.format(HBF[kk]), '{:.3f}'.format(BBF[kk]),\n",
    "                '{:.8f}'.format(SC[kk]),\n",
    "                '{:.3f}'.format(ETAB[kk]), '{:.3f}'.format(ETAC[kk]),\n",
    "                '{:.3f}'.format(ETANC[kk]), '{:.3f}'.format(ETAPB[kk]),\n",
    "                '{:.3f}'.format(HC[kk]), '{:.3f}'.format(HNC[kk]),\n",
    "                '{:.3f}'.format(HPB[kk]),\n",
    "                '{:.3f}'.format(CERO[kk]), '{:.3f}'.format(CDEP[kk]),\n",
    "                '{:.10f}'.format(VDEP[kk]), '{:.3f}'.format(QTT[kk])])\n",
    "    # Change the directory back\n",
    "    os.chdir(path_work)"
   ]
  },
  {
   "cell_type": "markdown",
   "metadata": {},
   "source": [
    "## 5. Run the script"
   ]
  },
  {
   "cell_type": "code",
   "execution_count": null,
   "metadata": {},
   "outputs": [],
   "source": [
    "if __name__ == '__main__':\n",
    "    main()"
   ]
  },
  {
   "cell_type": "code",
   "execution_count": null,
   "metadata": {},
   "outputs": [],
   "source": []
  }
 ],
 "metadata": {
  "kernelspec": {
   "display_name": "Python 2",
   "language": "python",
   "name": "python2"
  },
  "language_info": {
   "codemirror_mode": {
    "name": "ipython",
    "version": 2
   },
   "file_extension": ".py",
   "mimetype": "text/x-python",
   "name": "python",
   "nbconvert_exporter": "python",
   "pygments_lexer": "ipython2",
   "version": "2.7.13"
  }
 },
 "nbformat": 4,
 "nbformat_minor": 2
}
