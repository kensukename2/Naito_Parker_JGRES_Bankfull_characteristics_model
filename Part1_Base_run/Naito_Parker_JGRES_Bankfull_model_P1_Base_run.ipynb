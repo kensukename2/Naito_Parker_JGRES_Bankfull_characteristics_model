{
 "cells": [
  {
   "cell_type": "markdown",
   "metadata": {},
   "source": [
    "# Bankfull characteristics model: Spatiotemporal evolution of bankfull discharge and channel geometry of an alluvial meandering river. Part 1: Fundamental behavior of the model."
   ]
  },
  {
   "cell_type": "markdown",
   "metadata": {},
   "source": [
    "Kensuke Naito (knaito2@illinois.edu) and Gary Parker"
   ]
  },
  {
   "cell_type": "markdown",
   "metadata": {},
   "source": [
    "This is a numerical model presented in a paper titled \"Can Bankfull Discharge and Bankfull Channel Characteristics of an Alluvial River be Co-specified from the Flow Duration Curve? Part 1: Framework for Analysis\", which is submitted to Journal of Geophydical Research: Earth Surface in December 2018. The model describes spatiotemporal variation of the bankfull characteristics (bankfull discharge (Qbf), bankfull width (Bbf), bankfull depth (Hbf) and down-channel slope (Sc)) for specified flow duration curve, annual bed material feed rate and other input parameters. From arbitrarily selected initial condition, the model ddepicts the evolution of bankfull characteristics to an equilibrium state, where the variables show no further change both in space and time. "
   ]
  },
  {
   "cell_type": "markdown",
   "metadata": {},
   "source": [
    "Here, fundamental behavior of the model for the case of the Trinity River, TX, USA is presented. "
   ]
  },
  {
   "cell_type": "markdown",
   "metadata": {},
   "source": [
    "The script is written in Python 2.7. However, it is made in such a way that the model can also be run with PyPy, which is fast, compliant alterative implementation of Python. PyPy can be downloaded at https://pypy.org/."
   ]
  },
  {
   "cell_type": "markdown",
   "metadata": {},
   "source": [
    "## 1. Model setup"
   ]
  },
  {
   "cell_type": "markdown",
   "metadata": {},
   "source": [
    "#### Import libraries"
   ]
  },
  {
   "cell_type": "code",
   "execution_count": null,
   "metadata": {},
   "outputs": [],
   "source": [
    "import os \n",
    "import sys\n",
    "import numpy as np\n",
    "import csv  "
   ]
  },
  {
   "cell_type": "markdown",
   "metadata": {},
   "source": [
    "#### Set path and file name"
   ]
  },
  {
   "cell_type": "markdown",
   "metadata": {},
   "source": [
    "Set path to working directory and the folder where model output csv files will be saved. The file names of the flow duration curve as well as output file need to be specified here."
   ]
  },
  {
   "cell_type": "code",
   "execution_count": null,
   "metadata": {},
   "outputs": [],
   "source": [
    "path_work = 'path to your working directory where fdc files are stored'\n",
    "path_csv =  'path to directory where you wish to store csv files'\n",
    "fdc_filename = '_fdc_trinityriver_romayor.csv'\n",
    "out_filename = '_yr_results'"
   ]
  },
  {
   "cell_type": "markdown",
   "metadata": {},
   "source": [
    "#### Input parameters"
   ]
  },
  {
   "cell_type": "markdown",
   "metadata": {},
   "source": [
    "Most of the input parameters are determined based on USGS gaging station at the Trinity River near Romayor, TX, USA. USGS gaging station number: 08066500."
   ]
  },
  {
   "cell_type": "code",
   "execution_count": null,
   "metadata": {},
   "outputs": [],
   "source": [
    "# Space / time grid size\n",
    "dxv = 1000.          # [m] Spatial grid size (valley length)\n",
    "M = 21          # [1] Number of spatial grids\n",
    "dt = 0.001          # [yr]  Temporal grid size \n",
    "Nloop = 3000001          # [1] Number of itteratoion for the spin-up run\n",
    "Ntoprint = 100000          # Number of itteration untill next printout for the spin-up run\n",
    "au = 0.5          # [1] au = 0.5: Central difference, au = 1: Full upwind\n",
    "\n",
    "# Initial channel geometry\n",
    "BbfI = 220.          # [m] Bankfull width   \n",
    "HncI = 2.          # [m] Thickness of lower floodplain layer\n",
    "HcI = 1.          #  [m] Thickness of upper floodplain layer\n",
    "HbfI = HncI + HcI          # [m] Bankfull deoth\n",
    "ScI = 0.00008          # [1] Down-channel slope\n",
    "Etab_d = 10.          # [m] Channel bed elevation at the downstream end \n",
    "\n",
    "# Parameter for the flow duration curve\n",
    "Nfdc = 100          #[1] Number of bins in FDC \n",
    "\n",
    "# Calibration parameter\n",
    "aEH = 0.45          # [1] Engelund-Hansen calibration factor\n",
    "Tsb = 0.1          # [yr] Characteristic bank armor (slump block) residence time\n",
    "cveg = 8.          # [m/yr] Characteristic vegetal encroachment rate\n",
    "fe = 0.1          # [1] Fractional efficiency of floodplain sedimentation\n",
    "\n",
    "# Auxullary parameter\n",
    "Cz = 14.          # [1] Dimensionless Chezy channel resistance coeffieent\n",
    "\n",
    "# Sediment and channel planform\n",
    "Dbm = 0.35 / 1000.         # [mm] D50 of bed material\n",
    "QTfeed = 0.22          # [Mt/yr] Mean annual bed material feed rate\n",
    "Dfm = 0.04 / 1000.          # [mm(m)] floodplain material size (0.05)\n",
    "Cfm = 2e-5          # [1] Characteristic volumetric concentration of floodplain material\n",
    "sinu = 1.8          # [1] Channel sinuosity\n",
    "\n",
    " # Parameter for cut bank erosion and inner bank migration\n",
    "A = 4.81          # [1] Dimensionless coeff (Johannesson & Parker, 1989)\n",
    "fmb = 10.          # [1] Ratio of meandering belt width to bankfull width (10)\n",
    "fc = 1.          # [1] Ratio of slump block size to cohesive layer thickness (0.5)\n",
    "lpc = 0.3          # [1] Porosity of upper floodplain layer\n",
    "lp = 0.3          # [1] Porosity of channel bed and lower floodplain layer\n",
    "\n",
    "# Global constants\n",
    "g = 9.81          # [m/s^2] Gravitational acceleration\n",
    "Rr = 1.65          # [1] Submerged specific gravity of sediment\n",
    "day_in_sec = 60. * 60. * 24.          #[s] A day in seconds\n",
    "year_in_sec = day_in_sec * 365.25          #[s] A year in seconds \n",
    "converter_QT = 1e6 / (Rr + 1.)          # [] Unit converter for bed mateiral load\n",
    "\n",
    "# Unit conversion\n",
    "Xv = np.ones(M)          # River valley coordinates for plotting results\n",
    "for j in range(M):\n",
    "    Xv[j] *= j * dxv / 1000.\n",
    "QTfeed *= converter_QT          # [Mt/yr -> m^3/yr] Bed mateiral load\n",
    "\n",
    "# Fall velocity of floodplain material (Dietrich, 1982)\n",
    "Rep = np.sqrt(g * Rr * Dfm**3.) / 1e-6          # [1] Particle Reynolds number\n",
    "b1 = 2.89139447769084; b2 = 0.95296; b3 = 0.0568346711984055 \n",
    "b4 = 0.00289204602084475; b5 = 0.00024464688411386\n",
    "Rf = np.exp(-b1 + b2 * np.log(Rep) - b3 * np.log(Rep)**2. - b4 * np.log(Rep)**3. + b5 * np.log(Rep)**4.)\n",
    "vfall = Rf * np.sqrt(g * Rr * Dfm)          # [m/s] Fall velocity of floodplain material \n",
    "\n",
    "# Coefficients for point bar height calculation and cut bank erosion rate calculation\n",
    "fpb = (sinu - 1.) * A / fmb          # [1] For point bar height calculation\n",
    "fbe = fc / ((1. - lpc) * Tsb)          # [1/yr] For outer bankf erosion calculation"
   ]
  },
  {
   "cell_type": "markdown",
   "metadata": {},
   "source": [
    "## 2. Main routine "
   ]
  },
  {
   "cell_type": "markdown",
   "metadata": {},
   "source": [
    "This rutine includes initial condition setup, computation of the spatial and temporal bankfull characteristics evolution and result output to csv files."
   ]
  },
  {
   "cell_type": "code",
   "execution_count": null,
   "metadata": {},
   "outputs": [],
   "source": [
    "def main():\n",
    "    \n",
    "    # Display total number of years of the calculation and time step between result outputs\n",
    "    print('Total run [yr] = ' + str(int(dt * Nloop)))\n",
    "    print('Print out step [yr] = ' + str(int(dt * Ntoprint)))\n",
    "    \n",
    "    # Change current directory to working directory\n",
    "    os.chdir(path_work)\n",
    "\n",
    "    # Initialize the time\n",
    "    Time = 0.\n",
    "\n",
    "    # Constract FDC from csv file on daily-averge flow record\n",
    "    Qi, pi = construct_fdc(fdc_filename)\n",
    "\n",
    "    # Calculate and setup initial condition\n",
    "    usbf = (g * HbfI * ScI)**(1./2.)          # [m/s] Bankfull shear velocity\n",
    "    QbfI = Cz * usbf * HbfI * BbfI          # [m^3/s] Bankfull discharge\n",
    "    HpbI = fpb * HbfI          # [m] Point bar height\n",
    "    cEI = outerbank_erosion_rate(QbfI, BbfI, HbfI, HncI, ScI, Qi, pi)          # [m/yr] Cut bank erosion rate\n",
    "    cDI = innerbank_deposition_rate(QbfI, BbfI, HbfI, ScI, Qi, pi)          # [m/yr] Inner bank deposition rate\n",
    "    vDI = overbank_deposition_rate(QbfI, Qi, pi)          # [m/yr] Overbank deposition rate\n",
    "    QTI = bedmaterial_load(QbfI, BbfI, HbfI, ScI, Qi, pi)          # [m^3/yr] Annual bed material load\n",
    "\n",
    "    # Set up the spatial grids for initial condition\n",
    "    Qbf = QbfI * np.ones(M); Bbf = BbfI * np.ones(M)\n",
    "    Hbf = HbfI * np.ones(M); Sc = ScI * np.ones(M)\n",
    "    Hnc = HncI * np.ones(M); Hc = HcI * np.ones(M)\n",
    "    Hpb = HpbI * np.ones(M)\n",
    "    Etab = Etab_d * np.ones(M)\n",
    "    for j in range(M):\n",
    "        Etab[j] += ScI * sinu * dxv * (M - j - 1.)\n",
    "    Etanc = Etab + HncI; Etac = Etab + HbfI\n",
    "    Etapb = Etab + HpbI\n",
    "    cE = cEI * np.ones(M); cD = cDI * np.ones(M)\n",
    "    vD = vDI * np.ones(M); QT = QTI * np.ones(M)\n",
    "\n",
    "    # Print out initial condition to csv file\n",
    "    printout_csv(out_filename, Time, Xv, Qbf, Bbf, Hbf, Sc, Hc, Hnc, Hpb,\n",
    "                 Etab, Etac, Etanc, Etapb, cE, cD, vD, QT)\n",
    "\n",
    "    # Temporal loop\n",
    "    for k in range(Nloop):\n",
    "\n",
    "        # Advance the clock\n",
    "        Time += dt\n",
    "        \n",
    "        # Spatial evolution of the variables\n",
    "        Stop, Qbf, Hbf, Bbf, Sc, Hc, Hnc, Hpb, \\\n",
    "              Etab, Etac, Etanc, Etapb, cE, cD, vD, QT  \\\n",
    "              = spatial_calculation(Qbf, Bbf, Sc, Hnc, Hpb,\n",
    "                                    Etac, Etanc, Etab, Etapb,\n",
    "                                    cE, cD, vD, QT, QTfeed, Qi, pi)\n",
    "\n",
    "        # Detect error and print out results\n",
    "        if Stop == True:\n",
    "            break\n",
    "        elif k != 0 and k % Ntoprint == 0:\n",
    "            printout_csv(out_filename, Time, Xv, Qbf, Bbf, Hbf, Sc, Hc, Hnc, Hpb,\n",
    "                         Etab, Etac, Etanc, Etapb, cE, cD, vD, QT)\n",
    "            print(str(int(100 * k / Nloop)) + '% Done')\n",
    "    \n",
    "    # Display the main results\n",
    "    if Stop == False:\n",
    "        print('===== MAIN RESULTS =====')\n",
    "        print('Qbf [m^3/s] = ' + str(round(Qbf[0], 1)))\n",
    "        print('Bbf [m] = ' + str(round(Bbf[0], 1)))\n",
    "        print('Hbf [m] = ' + str(round(Hbf[0], 1)))\n",
    "        print('Sc [1] = ' + str(round(Sc[0], 7)))"
   ]
  },
  {
   "cell_type": "markdown",
   "metadata": {},
   "source": [
    "## 3. Sub-functions"
   ]
  },
  {
   "cell_type": "markdown",
   "metadata": {},
   "source": [
    "#### Spatial variation of the bankfull characteristics "
   ]
  },
  {
   "cell_type": "markdown",
   "metadata": {},
   "source": [
    "Bankfull channel characteristics are calculated as a result of floodplain thickening due to overbank deposition or/and channel bed degradation, floodplain thinning due to cut bank erosion or/and channel bed aggracation, channel widening/narrowing due to the difference in cut bank migraion rate and inner bank migration rate. "
   ]
  },
  {
   "cell_type": "code",
   "execution_count": null,
   "metadata": {},
   "outputs": [],
   "source": [
    "def spatial_calculation(Qbf, Bbf, Sc, Hnc, Hpb, Etac, Etanc, Etab, Etapb,\n",
    "                        cE, cD, vD, QT, Qtfeed, Qi, pi):\n",
    "\n",
    "    # Create arrays\n",
    "    d_Etab = np.zeros(M); d_Etanc = np.zeros(M)\n",
    "    d_Etac = np.zeros(M); d_Bbf = np.zeros(M)\n",
    "\n",
    "    # Calculate update\n",
    "    for j in range(M):\n",
    "        # QT at adjacent nodes\n",
    "        QTmid = QT[j]\n",
    "        if j == 0:\n",
    "            QTup = QTfeed\n",
    "            QTdw = QT[j+1]\n",
    "        elif j == M-1:\n",
    "            QTup = QT[j-1]\n",
    "            QTdw = QTmid\n",
    "        else:\n",
    "            QTup = QT[j-1]\n",
    "            QTdw = QT[j+1]\n",
    "\n",
    "        d_Etab[j] = (Hnc[j] * cE[j] - Hpb[j] * cD[j]) / Bbf[j] \\\n",
    "                    - (au * (QTmid - QTup) + (1. - au) * (QTdw - QTmid)) \\\n",
    "                    / (dxv * sinu * (1. - lp) * Bbf[j])\n",
    "        d_Etanc[j] = (Etapb[j] - Etanc[j]) * sinu * cD[j] / (fmb * Bbf[j] - sinu * Bbf[j])\n",
    "        d_Etac[j] = vD[j] / (1. - lpc) + sinu * (cD[j] * (Etapb[j] - Etanc[j]) - cE[j] * (Etac[j] - Etanc[j])) \\\n",
    "                    / (fmb * Bbf[j] - sinu * Bbf[j])\n",
    "        d_Bbf[j] = cE[j] - cD[j]\n",
    "\n",
    "    # Update geometry\n",
    "    Bbf = Bbf + dt * d_Bbf\n",
    "    Etab = Etab + dt * d_Etab\n",
    "    Etanc = Etanc + dt * d_Etanc\n",
    "    Etac = Etac + dt * d_Etac\n",
    "    Hnc = Etanc - Etab\n",
    "    Hc = Etac - Etanc\n",
    "    Hbf = Hnc + Hc\n",
    "    Hpb = fpb * Hbf\n",
    "    Etapb = Etab + Hpb\n",
    "        \n",
    "    # Calculate bankfull discharge, slope, channel migration, \n",
    "    # overbank deposition and bed material load\n",
    "    for j in range(M):\n",
    "        if j == 0:\n",
    "            Sc[j] = (Etab[0] - Etab[1]) / (sinu * dxv)\n",
    "        elif j == M - 1:\n",
    "            Sc[j] = (Etab[-2] - Etab[-1]) / (sinu * dxv)\n",
    "        else:\n",
    "            Sc[j] = (Etab[j-1] - Etab[j+1]) / (2. * sinu * dxv)\n",
    "\n",
    "        # Detect NAN and negative geometry\n",
    "        if Bbf[j] != Bbf[j] or QT[j] != QT[j] or Bbf[j] <= 0 or Sc[j] <= 0:\n",
    "            Stop = True\n",
    "            print '[!] Encountered NAN or negative geometry. Change dt, dx or initial condition'\n",
    "            break\n",
    "        else:\n",
    "            Stop = False\n",
    "            # Bankfull discharge\n",
    "            usbf = (g * Hbf[j] * Sc[j])**(1./2.)\n",
    "            Qbf[j] = Cz * usbf * Hbf[j] * Bbf[j]\n",
    "            # Lateral channel migration, overbank deposition and bed mateiral load\n",
    "            cE[j] = outerbank_erosion_rate(Qbf[j], Bbf[j], Hbf[j], Hnc[j], Sc[j], Qi, pi)  # [m/yr]\n",
    "            cD[j] = innerbank_deposition_rate(Qbf[j], Bbf[j], Hbf[j], Sc[j], Qi, pi)  # [m/yr]\n",
    "            vD[j] = overbank_deposition_rate(Qbf[j], Qi, pi)  # [m/yr]\n",
    "            QT[j] = bedmaterial_load(Qbf[j], Bbf[j], Hbf[j], Sc[j], Qi, pi)  # [m^3/yr]\n",
    "    \n",
    "    return Stop, Qbf, Hbf, Bbf, Sc, Hc, Hnc, Hpb, \\\n",
    "           Etab, Etac, Etanc, Etapb, cE, cD, vD, QT"
   ]
  },
  {
   "cell_type": "markdown",
   "metadata": {},
   "source": [
    "#### Function to calculate inner bank depositional migration"
   ]
  },
  {
   "cell_type": "markdown",
   "metadata": {},
   "source": [
    "Inner bank depositional migration rate (cD) is calculated as a negative function of specified characteristic point bar vegetal encroachment rate (cveg) and bed shear stress (taus). Note that cD is integrated over the specified flow duration curve.  "
   ]
  },
  {
   "cell_type": "code",
   "execution_count": null,
   "metadata": {},
   "outputs": [],
   "source": [
    "def innerbank_deposition_rate(Qbf, Bbf, Hbf, Sc, Qi, pi):\n",
    "    tausbf = Hbf * Sc / (Rr * Dbm)\n",
    "    cD = 0.\n",
    "    for i in range(Nfdc):\n",
    "        # No inner bank advance during overbank flows\n",
    "        if Qi[i] <= Qbf:\n",
    "            H = (Qi[i]**2. / (Cz**2. * g * Sc * Bbf**2.))**(1./3.)\n",
    "            tausi = H * Sc / (Rr * Dbm)\n",
    "            cD += 0.5 * cveg / (1. - lp) * (1. - tausi / tausbf) * pi[i]\n",
    "    return cD"
   ]
  },
  {
   "cell_type": "markdown",
   "metadata": {},
   "source": [
    "#### Cut bank erosional migration "
   ]
  },
  {
   "cell_type": "markdown",
   "metadata": {},
   "source": [
    "Outer bank erosional migration rate (cE) is calculated as a function of specified characteristic bank aromor (slump block) residence time (Tsb) and bed shear stress (taus). Note that cE is integrated over the specified flow duration curve.  "
   ]
  },
  {
   "cell_type": "code",
   "execution_count": null,
   "metadata": {},
   "outputs": [],
   "source": [
    "def outerbank_erosion_rate(Qbf, Bbf, Hbf, Hnc, Sc, Qi, pi):\n",
    "    if Hnc < 0.:\n",
    "        Hnc = 0.\n",
    "    tausbf = Hbf * Sc / (Rr * Dbm)\n",
    "    cE = 0.\n",
    "    for i in range(Nfdc):\n",
    "        # Below bankfull flow\n",
    "        if Qi[i] <= Qbf:\n",
    "            H = (Qi[i]**2. / (Cz**2. * g * Sc * Bbf**2.))**(1./3.)\n",
    "            tausi = H * Sc / (Rr * Dbm)\n",
    "            cE += 0.5 * fbe * Hnc * (tausi / tausbf) * pi[i]\n",
    "        # Above bankfull flow\n",
    "        else:\n",
    "            cE += 0.5 * fbe * Hnc * 1. * pi[i]\n",
    "    return cE"
   ]
  },
  {
   "cell_type": "markdown",
   "metadata": {},
   "source": [
    "#### Overbank deposition "
   ]
  },
  {
   "cell_type": "markdown",
   "metadata": {},
   "source": [
    "Overbank deposition rate (vD) is calculated as a function of fall velocity of specified fractional efficiency of floodplain mateiral sedimentation (fe), specified characteristic volume concentration of floodplain mateiral during overbank flows (Cfm) and settling velocity of specified floodplain mateiral grain size (vfall). Note that vD is integrated over the specified flow duration curve.  "
   ]
  },
  {
   "cell_type": "code",
   "execution_count": null,
   "metadata": {},
   "outputs": [],
   "source": [
    "def overbank_deposition_rate(Qbf, Qi, pi):\n",
    "    vdep = 0.\n",
    "    for i in range(Nfdc):\n",
    "        # No overbank deposition rate during below-bankfull flows\n",
    "        if Qi[i] > Qbf:\n",
    "            vdep += fe * vfall * year_in_sec * Cfm * pi[i]\n",
    "    return vdep"
   ]
  },
  {
   "cell_type": "markdown",
   "metadata": {},
   "source": [
    "#### In-channel bed mateiral transport"
   ]
  },
  {
   "cell_type": "markdown",
   "metadata": {},
   "source": [
    "In-channel bedmaterial load (QT) is calculated using total load relation by Engelund and Hansen (1967). It is calculated as a function of specified total load relation calibration factor (aEH), bed shear stress (taus) and specified dimensionless Chezy channel resistance coefficieit (Cz). Note that QT is integrated over the specified flow duration curve."
   ]
  },
  {
   "cell_type": "code",
   "execution_count": null,
   "metadata": {},
   "outputs": [],
   "source": [
    "def bedmaterial_load(Qbf, Bbf, Hbf, Sc, Qi, pi):\n",
    "    tausbf = Hbf * Sc / (Rr * Dbm)\n",
    "    Einstein_no = 0.\n",
    "    for i in range(Nfdc):\n",
    "        # Below overbank flow\n",
    "        if Qi[i] <= Qbf:\n",
    "            H = (Qi[i]**2. / (Cz**2. * g * Sc * Bbf**2.))**(1./3.)\n",
    "            tausi = H * Sc / (Rr * Dbm)\n",
    "            Einstein_no += Bbf * aEH * 0.05 * Cz**2. * tausi**(5./2.) * pi[i]\n",
    "        # Above overbank flow\n",
    "        else:\n",
    "            Einstein_no += Bbf * aEH * 0.05 * Cz**2. * tausbf**(5./2.) * pi[i]\n",
    "    QT = Einstein_no * (g * Rr * Dbm**3.)**(1./2.) * year_in_sec          # [m^3/yr]\n",
    "    return QT"
   ]
  },
  {
   "cell_type": "markdown",
   "metadata": {},
   "source": [
    "#### Read csv file to condtruct the flow duration curve"
   ]
  },
  {
   "cell_type": "markdown",
   "metadata": {},
   "source": [
    "The cvs file containes 4 columns (1: agency, 2: site no, 3: date, 4: discharge). Discharge is provided in US unit, thus it is converted to SI unit. "
   ]
  },
  {
   "cell_type": "code",
   "execution_count": null,
   "metadata": {},
   "outputs": [],
   "source": [
    "def construct_fdc(fdc_filename):\n",
    "    # Read csv file\n",
    "    with open(fdc_filename) as csv_file:\n",
    "        csv_reader = csv.reader(csv_file, delimiter=',')\n",
    "        Qw = []; counter = 0\n",
    "        for row in csv_reader:\n",
    "            if str(row[3]).isdigit() and str(row[3]) > 0.:\n",
    "                Qw.append(float(row[3]) * (12.**3.) * (2.54**3.) / (100.**3.))     #[ft^3/s -> m^3/s]\n",
    "            counter += 1\n",
    "    Qw = np.array(Qw)\n",
    "    # Condtruct probability density function\n",
    "    Qi, pi = np.zeros(Nfdc), np.zeros(Nfdc)\n",
    "    nn, bins = np.histogram(Qw, Nfdc, density=True)\n",
    "    for k in range(Nfdc):\n",
    "        Qi[k] = 0.5 * (bins[k] + bins[k+1])\n",
    "        pi[k] = nn[k] * (bins[k+1] - bins[k])\n",
    "    return Qi, pi"
   ]
  },
  {
   "cell_type": "markdown",
   "metadata": {},
   "source": [
    "#### Print out results to csv files"
   ]
  },
  {
   "cell_type": "markdown",
   "metadata": {},
   "source": [
    "Each output file containes spatial variation of valley coordinate (Xv), bankfull discharge (Qbf), bankfull width (Bbf), bankful depth (Hbf = Hnc + Hc)), down-channel slope (Sc), elevation of channel bed (Etab), elevation of top of upper cohesive floodplain layer (Etac), elevation of top of lower non-cohesive floodplain layer (Etanc), elevation of top of point bar (Etapb), thichness of upper cohesive floodplain layer (Hc = Etac - Etanc), thickness of lower non-cohesive floodplain layer (Hnc = Etanc - Etab), point bar height (Hpb = Etapb - Etab), cut bank erosional migraion rate (cE), inner bankf depositional migraion rate (cD), overbank deposition rage (vD) and annual bed material load (QT). "
   ]
  },
  {
   "cell_type": "code",
   "execution_count": null,
   "metadata": {},
   "outputs": [],
   "source": [
    "def printout_csv(out_filename, Time, Xv, Qbf, Bbf, Hbf, Sc, Hc, Hnc, Hpb,\n",
    "                 Etab, Etac, Etanc, Etapb, cE, cD, vD, QT):\n",
    "    # Change the directory\n",
    "    os.chdir(path_csv)\n",
    "    Nrow = len(Xv)\n",
    "    QT /= converter_QT     # [m^3/yr -> Mt/yr]\n",
    "    with open(str(int(Time))+out_filename+'.csv', 'wb') as ff:\n",
    "        writer = csv.writer(ff)\n",
    "        for kk in range(Nrow):\n",
    "            # [0: Xv, 1:Qbf, 2:Bbf, 3:Hbf, 4:Sc, 5:Etab, 6:Etac, 7:Etanc, 8:Etapb,\n",
    "            #  9:Hc, 10:Hnc, 11:Hpb, 12:cE, 13:cD, 14:vD, 15:QT]\n",
    "            writer.writerow([\n",
    "                '{:.1f}'.format(Xv[kk]), '{:.2f}'.format(Qbf[kk]), '{:.2f}'.format(Bbf[kk]),\n",
    "                '{:.2f}'.format(Hbf[kk]), '{:.7f}'.format(Sc[kk]),\n",
    "                '{:.2f}'.format(Etab[kk]), '{:.2f}'.format(Etac[kk]), '{:.2f}'.format(Etanc[kk]),\n",
    "                '{:.2f}'.format(Etapb[kk]), '{:.2f}'.format(Hc[kk]), '{:.2f}'.format(Hnc[kk]),\n",
    "                '{:.2f}'.format(Hpb[kk]), '{:.2f}'.format(cE[kk]), '{:.2f}'.format(cD[kk]),\n",
    "                '{:.7f}'.format(vD[kk]), '{:.4f}'.format(QT[kk])\n",
    "                ])\n",
    "    # Change the directory back\n",
    "    os.chdir(path_work)"
   ]
  },
  {
   "cell_type": "markdown",
   "metadata": {},
   "source": [
    "## 4. Run the script"
   ]
  },
  {
   "cell_type": "code",
   "execution_count": null,
   "metadata": {},
   "outputs": [],
   "source": [
    "if __name__ == '__main__':\n",
    "    main()"
   ]
  }
 ],
 "metadata": {
  "kernelspec": {
   "display_name": "Python 2",
   "language": "python",
   "name": "python2"
  },
  "language_info": {
   "codemirror_mode": {
    "name": "ipython",
    "version": 2
   },
   "file_extension": ".py",
   "mimetype": "text/x-python",
   "name": "python",
   "nbconvert_exporter": "python",
   "pygments_lexer": "ipython2",
   "version": "2.7.13"
  }
 },
 "nbformat": 4,
 "nbformat_minor": 2
}
